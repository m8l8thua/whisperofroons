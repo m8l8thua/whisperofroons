{
 "cells": [
  {
   "cell_type": "code",
   "execution_count": 7,
   "metadata": {},
   "outputs": [
    {
     "name": "stdout",
     "output_type": "stream",
     "text": [
      "Let's Start!\n",
      ">*<>*<>*<>*<>*<>*<>*<>*<>*<>*<>*<>*<>*<>*<>*<>*<>*<>*<>*<>*<\n",
      "This is object: <__main__.MyName object at 0x000001D210DC7FD0> \n",
      "This is object attribute: Bohdan / 1\n",
      "This is <class 'property'>: My name is Bohdan / Bohdan@itcollege.lviv.ua\n",
      "This is <class 'method'> call: Bohdan@itcollege.lviv.ua\n",
      "This is static <class 'function'> with defaults: You say: Hello to everyone! \n",
      "This is class variable <class 'int'>: from class 3 / from object 3\n",
      "<*><*><*><*><*><*><*><*><*><*><*><*><*><*><*><*><*><*><*><*>\n",
      ">*<>*<>*<>*<>*<>*<>*<>*<>*<>*<>*<>*<>*<>*<>*<>*<>*<>*<>*<>*<\n",
      "This is object: <__main__.MyName object at 0x000001D210DC7370> \n",
      "This is object attribute: Marta / 2\n",
      "This is <class 'property'>: My name is Marta / Marta@itcollege.lviv.ua\n",
      "This is <class 'method'> call: Marta@itcollege.lviv.ua\n",
      "This is static <class 'function'> with defaults: You say: Hello to everyone! \n",
      "This is class variable <class 'int'>: from class 3 / from object 3\n",
      "<*><*><*><*><*><*><*><*><*><*><*><*><*><*><*><*><*><*><*><*>\n",
      ">*<>*<>*<>*<>*<>*<>*<>*<>*<>*<>*<>*<>*<>*<>*<>*<>*<>*<>*<>*<\n",
      "This is object: <__main__.MyName object at 0x000001D210DC66E0> \n",
      "This is object attribute: Oleg / 3\n",
      "This is <class 'property'>: My name is Oleg / Oleg@itcollege.lviv.ua\n",
      "This is <class 'method'> call: Oleg@itcollege.lviv.ua\n",
      "This is static <class 'function'> with defaults: You say: Hello to everyone! \n",
      "This is class variable <class 'int'>: from class 3 / from object 3\n",
      "<*><*><*><*><*><*><*><*><*><*><*><*><*><*><*><*><*><*><*><*>\n"
     ]
    },
    {
     "ename": "AttributeError",
     "evalue": "type object 'MyName' has no attribute 'total_names'",
     "output_type": "error",
     "traceback": [
      "\u001b[1;31m---------------------------------------------------------------------------\u001b[0m",
      "\u001b[1;31mAttributeError\u001b[0m                            Traceback (most recent call last)",
      "\u001b[1;32mc:\\Users\\Олег\\Desktop\\project1\\whisperofroons\\3_python_lab\\3_pythonlab.ipynb Ячейка 1\u001b[0m in \u001b[0;36m<cell line: 64>\u001b[1;34m()\u001b[0m\n\u001b[0;32m     <a href='vscode-notebook-cell:/c%3A/Users/%D0%9E%D0%BB%D0%B5%D0%B3/Desktop/project1/whisperofroons/3_python_lab/3_pythonlab.ipynb#W0sZmlsZQ%3D%3D?line=60'>61</a>\u001b[0m         \u001b[39mprint\u001b[39m(\u001b[39mf\u001b[39m\u001b[39m\"\u001b[39m\u001b[39mІмя мого \u001b[39m\u001b[39m{\u001b[39;00mOleg\u001b[39m.\u001b[39mtype\u001b[39m}\u001b[39;00m\u001b[39m має \u001b[39m\u001b[39m{\u001b[39;00ma\u001b[39m}\u001b[39;00m\u001b[39m букв\u001b[39m\u001b[39m\"\u001b[39m)\n\u001b[0;32m     <a href='vscode-notebook-cell:/c%3A/Users/%D0%9E%D0%BB%D0%B5%D0%B3/Desktop/project1/whisperofroons/3_python_lab/3_pythonlab.ipynb#W0sZmlsZQ%3D%3D?line=61'>62</a>\u001b[0m         \u001b[39mreturn\u001b[39;00m a\n\u001b[1;32m---> <a href='vscode-notebook-cell:/c%3A/Users/%D0%9E%D0%BB%D0%B5%D0%B3/Desktop/project1/whisperofroons/3_python_lab/3_pythonlab.ipynb#W0sZmlsZQ%3D%3D?line=63'>64</a>\u001b[0m \u001b[39mprint\u001b[39m(\u001b[39mf\u001b[39m\u001b[39m\"\u001b[39m\u001b[39mWe are done. We create \u001b[39m\u001b[39m{\u001b[39;00mme\u001b[39m.\u001b[39mtotal_names\u001b[39m}\u001b[39;00m\u001b[39m names! ??? Why \u001b[39m\u001b[39m{\u001b[39;00mMyName\u001b[39m.\u001b[39mtotal_names\u001b[39m}\u001b[39;00m\u001b[39m?\u001b[39m\u001b[39m\"\u001b[39m)\n",
      "\u001b[1;31mAttributeError\u001b[0m: type object 'MyName' has no attribute 'total_names'"
     ]
    }
   ],
   "source": [
    "class MyName:\n",
    "    \"\"\"Опис класу / Документація\n",
    "    \"\"\"\n",
    "    total_names = 0 #Class Variable\n",
    "\n",
    "    def __init__(self, name=None) -> None:\n",
    "        self.name = name if name is not None else self.anonymous_user().name #Class attributes / Instance variables\n",
    "        MyName.total_names += 1 #modify class variable\n",
    "        self.my_id = self.total_names\n",
    "\n",
    "    @property\n",
    "    def whoami(self): \n",
    "        \"\"\"Class property\n",
    "        return: повертаємо імя \n",
    "        \"\"\"\n",
    "        return f\"My name is {self.name}\"\n",
    "    \n",
    "    @property\n",
    "    def my_email(self) -> str:\n",
    "        \"\"\"Class property\n",
    "        return: повертаємо емейл\n",
    "        \"\"\"\n",
    "        return self.create_email()\n",
    "    \n",
    "    def create_email(self) -> str:\n",
    "        \"\"\"Instance method\n",
    "        \"\"\"\n",
    "        return f\"{self.name}@itcollege.lviv.ua\"\n",
    "\n",
    "    @classmethod\n",
    "    def anonymous_user(cls):\n",
    "        \"\"\"Classs method\n",
    "        \"\"\"\n",
    "        return cls(\"Anonymous\")\n",
    "    \n",
    "    @staticmethod\n",
    "    def say_hello(message=\"Hello to everyone!\"):\n",
    "        \"\"\"Static method\n",
    "        \"\"\"\n",
    "        return f\"You say: {message}\"\n",
    "\n",
    "\n",
    "print(\"Let's Start!\")\n",
    "\n",
    "names = (\"Bohdan\", \"Marta\", \"Oleg\")\n",
    "all_names = {name: MyName(name) for name in names}\n",
    "\n",
    "for name, me in all_names.items():\n",
    "    print(f\"\"\"{\">*<\"*20}\n",
    "This is object: {me} \n",
    "This is object attribute: {me.name} / {me.my_id}\n",
    "This is {type(MyName.whoami)}: {me.whoami} / {me.my_email}\n",
    "This is {type(me.create_email)} call: {me.create_email()}\n",
    "This is static {type(MyName.say_hello)} with defaults: {me.say_hello()} \n",
    "This is class variable {type(MyName.total_names)}: from class {MyName.total_names} / from object {me.total_names}\n",
    "{\"<*>\"*20}\"\"\")\n",
    "\n",
    "class MyAnimals:\n",
    "    pass\n",
    "\n",
    "a = MyName()\n",
    "print(f\"Це є обєкт {a} мого класу {MyName}\")\n",
    "a.name = \"Oleg\"\n",
    "b = MyName()\n",
    "\n",
    "print(f\"Динамічно додав імя до обєкту {a.name}\")\n",
    "\n",
    "print(f\"We are done. We create {me.total_names} names! ??? Why {MyName.total_names}?\")"
   ]
  }
 ],
 "metadata": {
  "kernelspec": {
   "display_name": "Python 3.10.6 64-bit (microsoft store)",
   "language": "python",
   "name": "python3"
  },
  "language_info": {
   "codemirror_mode": {
    "name": "ipython",
    "version": 3
   },
   "file_extension": ".py",
   "mimetype": "text/x-python",
   "name": "python",
   "nbconvert_exporter": "python",
   "pygments_lexer": "ipython3",
   "version": "3.10.6"
  },
  "orig_nbformat": 4,
  "vscode": {
   "interpreter": {
    "hash": "ab50e0f3b2cd6b3f9d87489071918167603376b578fa1bac4fb615e27848ccb2"
   }
  }
 },
 "nbformat": 4,
 "nbformat_minor": 2
}
