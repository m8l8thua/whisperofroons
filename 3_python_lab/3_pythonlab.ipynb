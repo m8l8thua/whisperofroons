{
 "cells": [
  {
   "cell_type": "code",
   "execution_count": 3,
   "metadata": {},
   "outputs": [
    {
     "name": "stdout",
     "output_type": "stream",
     "text": [
      "Let's Start!\n",
      ">*<>*<>*<>*<>*<>*<>*<>*<>*<>*<>*<>*<>*<>*<>*<>*<>*<>*<>*<>*<\n",
      "This is object: <__main__.MyName object at 0x0000018EF4AEEF50> \n",
      "This is object attribute: Bohdan / 1\n",
      "This is <class 'property'>: My name is Bohdan / Bohdan@itcollege.lviv.ua\n",
      "This is <class 'method'> call: Bohdan@itcollege.lviv.ua\n",
      "This is static <class 'function'> with defaults: You say: Hello to everyone! \n",
      "This is class variable <class 'int'>: from class 5 / from object 5\n",
      "<*><*><*><*><*><*><*><*><*><*><*><*><*><*><*><*><*><*><*><*>\n",
      ">*<>*<>*<>*<>*<>*<>*<>*<>*<>*<>*<>*<>*<>*<>*<>*<>*<>*<>*<>*<\n",
      "This is object: <__main__.MyName object at 0x0000018EF4AEF6D0> \n",
      "This is object attribute: Marta / 2\n",
      "This is <class 'property'>: My name is Marta / Marta@itcollege.lviv.ua\n",
      "This is <class 'method'> call: Marta@itcollege.lviv.ua\n",
      "This is static <class 'function'> with defaults: You say: Hello to everyone! \n",
      "This is class variable <class 'int'>: from class 5 / from object 5\n",
      "<*><*><*><*><*><*><*><*><*><*><*><*><*><*><*><*><*><*><*><*>\n",
      ">*<>*<>*<>*<>*<>*<>*<>*<>*<>*<>*<>*<>*<>*<>*<>*<>*<>*<>*<>*<\n",
      "This is object: <__main__.MyName object at 0x0000018EF4AEF940> \n",
      "This is object attribute: Anonymous / 4\n",
      "This is <class 'property'>: My name is Anonymous / Anonymous@itcollege.lviv.ua\n",
      "This is <class 'method'> call: Anonymous@itcollege.lviv.ua\n",
      "This is static <class 'function'> with defaults: You say: Hello to everyone! \n",
      "This is class variable <class 'int'>: from class 5 / from object 5\n",
      "<*><*><*><*><*><*><*><*><*><*><*><*><*><*><*><*><*><*><*><*>\n",
      ">*<>*<>*<>*<>*<>*<>*<>*<>*<>*<>*<>*<>*<>*<>*<>*<>*<>*<>*<>*<\n",
      "This is object: <__main__.MyName object at 0x0000018EF4AEE680> \n",
      "This is object attribute: Oleg / 5\n",
      "This is <class 'property'>: My name is Oleg / Oleg@itcollege.lviv.ua\n",
      "This is <class 'method'> call: Oleg@itcollege.lviv.ua\n",
      "This is static <class 'function'> with defaults: You say: Hello to everyone! \n",
      "This is class variable <class 'int'>: from class 5 / from object 5\n",
      "<*><*><*><*><*><*><*><*><*><*><*><*><*><*><*><*><*><*><*><*>\n",
      "We are done. We create 5 names! ??? Why 5?\n"
     ]
    }
   ],
   "source": [
    "\n",
    "\n",
    "\n",
    "\n",
    "\n",
    "\n",
    "\n"
   ]
  }
 ],
 "metadata": {
  "kernelspec": {
   "display_name": "Python 3.10.6 64-bit (microsoft store)",
   "language": "python",
   "name": "python3"
  },
  "language_info": {
   "codemirror_mode": {
    "name": "ipython",
    "version": 3
   },
   "file_extension": ".py",
   "mimetype": "text/x-python",
   "name": "python",
   "nbconvert_exporter": "python",
   "pygments_lexer": "ipython3",
   "version": "3.10.8"
  },
  "orig_nbformat": 4,
  "vscode": {
   "interpreter": {
    "hash": "ab50e0f3b2cd6b3f9d87489071918167603376b578fa1bac4fb615e27848ccb2"
   }
  }
 },
 "nbformat": 4,
 "nbformat_minor": 2
}
