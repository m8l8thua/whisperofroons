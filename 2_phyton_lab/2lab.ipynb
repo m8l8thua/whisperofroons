{
 "cells": [
  {
   "cell_type": "markdown",
   "metadata": {},
   "source": [
    "# Базові типи даних\n",
    "\n"
   ]
  },
  {
   "cell_type": "code",
   "execution_count": 8,
   "metadata": {},
   "outputs": [
    {
     "name": "stdout",
     "output_type": "stream",
     "text": [
      "Я русофоб,І я русофоб безперечно\n",
      "<class 'str'> 15\n"
     ]
    },
    {
     "data": {
      "text/plain": [
       "False"
      ]
     },
     "execution_count": 8,
     "metadata": {},
     "output_type": "execute_result"
    }
   ],
   "source": [
    "var_str=\"Я русофоб\"\n",
    "var_str_1= \"І я русофоб безперечно\"\n",
    "vv = var_str +','+ var_str_1\n",
    "print(vv)\n",
    "\n",
    "var_int =15\n",
    "var_float =2.5\n",
    "\n",
    "print(type(var_str),var_int)\n",
    "print\n",
    "var_str.isdigit()\n",
    "\n"
   ]
  },
  {
   "cell_type": "markdown",
   "metadata": {},
   "source": [
    "# Cпособи виведення даних"
   ]
  },
  {
   "cell_type": "code",
   "execution_count": 1,
   "metadata": {},
   "outputs": [
    {
     "ename": "NameError",
     "evalue": "name 'var_str' is not defined",
     "output_type": "error",
     "traceback": [
      "\u001b[1;31m---------------------------------------------------------------------------\u001b[0m",
      "\u001b[1;31mNameError\u001b[0m                                 Traceback (most recent call last)",
      "\u001b[1;32mc:\\Users\\Олег\\Desktop\\project1\\whisperofroons\\2_phyton_lab\\2lab.ipynb Ячейка 4\u001b[0m in \u001b[0;36m<cell line: 1>\u001b[1;34m()\u001b[0m\n\u001b[1;32m----> <a href='vscode-notebook-cell:/c%3A/Users/%D0%9E%D0%BB%D0%B5%D0%B3/Desktop/project1/whisperofroons/2_phyton_lab/2lab.ipynb#W3sZmlsZQ%3D%3D?line=0'>1</a>\u001b[0m \u001b[39mprint\u001b[39m(\u001b[39m\"\u001b[39m\u001b[39mМетод 1:\u001b[39m\u001b[39m\"\u001b[39m, var_str, \u001b[39mtype\u001b[39m(var_str), \u001b[39m\"\u001b[39m\u001b[39mА також числа:\u001b[39m\u001b[39m\"\u001b[39m, var_float, \u001b[39mtype\u001b[39m(var_float))\n",
      "\u001b[1;31mNameError\u001b[0m: name 'var_str' is not defined"
     ]
    }
   ],
   "source": [
    "print(\"Метод 1:\", var_str, type(var_str), \"А також числа:\", var_float, type(var_float))"
   ]
  },
  {
   "cell_type": "markdown",
   "metadata": {},
   "source": [
    "## Складні типи даних\n",
    "- list,tupl\n",
    "- set.dict \n"
   ]
  },
  {
   "cell_type": "markdown",
   "metadata": {},
   "source": [
    "## List"
   ]
  },
  {
   "cell_type": "code",
   "execution_count": 3,
   "metadata": {},
   "outputs": [
    {
     "name": "stdout",
     "output_type": "stream",
     "text": [
      "['stringf', 25.694, ['abc', 258, 'xyz'], '!!!', 15, 'це буде вкінці'] Виводжу елемент під номером 0 який є stringf\n"
     ]
    }
   ],
   "source": [
    "ll = [\"stringf\", 15, 25.694, [\"abc\", 258, \"xyz\"], \"!!!\", 15]\n",
    "\n",
    "ll.append(\"Це буде вкінці\".lower())\n",
    "ll.remove(15)\n",
    "\n",
    "ll[0]\n",
    "\n",
    "print(ll, f\"Виводжу елемент під номером {ll.index('stringf')} який є {ll[0]}\")"
   ]
  },
  {
   "cell_type": "markdown",
   "metadata": {},
   "source": [
    "# Tuple"
   ]
  },
  {
   "cell_type": "code",
   "execution_count": 5,
   "metadata": {},
   "outputs": [
    {
     "name": "stdout",
     "output_type": "stream",
     "text": [
      "Рахуємо скільки раз повторюється число 88: 3\n",
      "('abc', 88, 88, 'wrt', 88) Берe елемент 1\n",
      "['abc', 88, 88, 'wrt', 88, 'В кінець']\n"
     ]
    }
   ],
   "source": [
    "tt = (\"abc\",88,88, \"wrt\", 88)\n",
    "\n",
    "print(\"Рахуємо скільки раз повторюється число 88:\", tt.count(88))\n",
    "\n",
    "print(tt, f\"Берe елемент {tt.index(88)}\")\n",
    "\n",
    "ll_2 = list(tt)\n",
    "ll_2.append(\"В кінець\")\n",
    "print( ll_2)"
   ]
  },
  {
   "cell_type": "markdown",
   "metadata": {},
   "source": [
    "# Set"
   ]
  },
  {
   "cell_type": "code",
   "execution_count": 7,
   "metadata": {},
   "outputs": [
    {
     "name": "stdout",
     "output_type": "stream",
     "text": [
      "Всі елементи: {'88', 1, 'abc', 'stringf', 'Stringf'}\n",
      "Елементи після видалення: {1, 'abc', 'stringf', 88}\n"
     ]
    }
   ],
   "source": [
    "ss = {1, 1.0, \"stringf\",\"Stringf\", \"abc\", \"88\", \"abc\"}\n",
    "print(f\"Всі елементи: {ss}\")\n",
    "ss.pop()\n",
    "ss.remove(\"Stringf\")\n",
    "ss.add(88)\n",
    "print(f\"Елементи після видалення: {ss}\")"
   ]
  },
  {
   "cell_type": "markdown",
   "metadata": {},
   "source": [
    "# Dict\n"
   ]
  },
  {
   "cell_type": "code",
   "execution_count": 8,
   "metadata": {},
   "outputs": [
    {
     "name": "stdout",
     "output_type": "stream",
     "text": [
      "{'Це ключ': 'Це значення', '__name__': 'Oleg_2'}\n",
      "Виведемо усі ключі dict_keys(['Це ключ', '__name__']) та всі значення dict_values(['Це значення', 'Oleg_2'])\n"
     ]
    },
    {
     "data": {
      "text/plain": [
       "{'Це ключ': 'Це значення', '__name__': 'Oleg_2'}"
      ]
     },
     "execution_count": 8,
     "metadata": {},
     "output_type": "execute_result"
    }
   ],
   "source": [
    "name = \"__name__\"\n",
    "dd = {\"Це ключ\": \"Це значення\", \"__name__\": \"Oleg\", name: \"Oleg_2\"}\n",
    "print(dd)\n",
    "\n",
    "print(f\"Виведемо усі ключі {dd.keys()} та всі значення {dd.values()}\")\n",
    "dd"
   ]
  },
  {
   "cell_type": "markdown",
   "metadata": {},
   "source": [
    "# Константи та вбудовані функції"
   ]
  },
  {
   "cell_type": "code",
   "execution_count": 11,
   "metadata": {},
   "outputs": [
    {
     "name": "stdout",
     "output_type": "stream",
     "text": [
      "[True, 'True']\n",
      "Звісно ж вони не рівні\n",
      "Вони є рівними\n",
      "[(1, 5), (2, 8), ('abc', 88)] Маємо елемент (1, 5) який має тип <class 'tuple'>\n"
     ]
    }
   ],
   "source": [
    "\n",
    "TrueSs = [True, \"True\"]\n",
    "print(TrueSs)\n",
    "if True == \"True\":\n",
    "    print(\"Так вони рівні\")\n",
    "else:\n",
    "    print(\"Звісно ж вони не рівні\")\n",
    "\n",
    "print(\"Вони є рівними\" if abs(-12.5) == abs(12.5) else \"НІ вони  не рівні\")\n",
    "l1 = [1, 2, \"abc\"]\n",
    "t2 = (5,8, 88)\n",
    "zz = list(zip(l1, t2))\n",
    "print(zz, f\"Маємо елемент {zz[0]} який має тип {type(zz[0])}\")\n",
    "\n"
   ]
  },
  {
   "cell_type": "markdown",
   "metadata": {},
   "source": [
    "# Цикли "
   ]
  },
  {
   "cell_type": "code",
   "execution_count": 21,
   "metadata": {},
   "outputs": [
    {
     "name": "stdout",
     "output_type": "stream",
     "text": [
      "нікакой панікі нєт!!!\n",
      "нікакой панікі нєт!!!\n",
      "нікакой панікі нєт!!!\n",
      "нікакой панікі нєт!!!\n",
      "проста гєраічєскоє отступлєніє \n"
     ]
    }
   ],
   "source": [
    "it = [5, 8, \"abc\", \"Кінець\"]\n",
    "i = 0\n",
    "while True:\n",
    "    print(\"нікакой панікі нєт!!!\")\n",
    "    if it[i] == \"Кінець\":\n",
    "        print(\"проста гєраічєскоє отступлєніє \")\n",
    "        break\n",
    "    i += 1"
   ]
  },
  {
   "cell_type": "code",
   "execution_count": 27,
   "metadata": {},
   "outputs": [
    {
     "name": "stdout",
     "output_type": "stream",
     "text": [
      "False\n",
      "0 О ні!!!\n",
      "1 Це виведеться в кінці\n",
      "1 О ні!!!\n",
      "Все що після цієї команди не буде виводитись\n",
      "2 О ні!!!\n",
      "3 Це виведеться в кінці\n",
      "\n",
      "0/\n",
      "0/0/\n",
      "0/0/0/\n",
      "0/0/0/0/\n",
      "0/0/0/0/0/\n",
      "0/0/0/0/0/0/\n",
      "0/0/0/0/0/0/0/\n",
      "0/0/0/0/0/0/0/0/\n",
      "0/0/0/0/0/0/0/0/0/\n"
     ]
    }
   ],
   "source": [
    "\n",
    "\n",
    "\n",
    "i=0\n",
    "\n",
    "print(it[i] == \"Кінець\")\n",
    "\n",
    "while it[i] != \"Кінець\":\n",
    "    print(f\"{i} О ні!!!\")\n",
    "    i += 1\n",
    "    if it[i] == \"abc\":\n",
    "        print(\"Все що після цієї команди не буде виводитись\")\n",
    "        continue\n",
    "    print(f\"{i} Це виведеться в кінці\")\n",
    "\n",
    "i = 0\n",
    "while i < 10:\n",
    "    print(i*\"0/\")\n",
    "    i+=1\n",
    "\n"
   ]
  },
  {
   "cell_type": "code",
   "execution_count": 28,
   "metadata": {},
   "outputs": [
    {
     "name": "stdout",
     "output_type": "stream",
     "text": [
      "Значення i 5\n",
      "Елемент 5 знаходиться під індексом 0\n",
      "Значення i 8\n",
      "Елемент 8 знаходиться під індексом 1\n",
      "Значення i abc\n",
      "Елемент abc знаходиться під індексом 2\n",
      "Значення i Кінець\n",
      "Елемент Кінець знаходиться під індексом 3\n",
      "range(0, 5) [0, 1, 2, 3, 4]\n"
     ]
    }
   ],
   "source": [
    "for i in it:\n",
    "    print(f\"Значення i {i}\")\n",
    "    print(f\"Елемент {i} знаходиться під індексом {it.index(i)}\")\n",
    "\n",
    "\n",
    "rr = range(5)\n",
    "print(rr, list(rr))    "
   ]
  },
  {
   "cell_type": "markdown",
   "metadata": {},
   "source": [
    "# Розгалуження"
   ]
  },
  {
   "cell_type": "code",
   "execution_count": 30,
   "metadata": {},
   "outputs": [
    {
     "name": "stdout",
     "output_type": "stream",
     "text": [
      "Залишилось =  0\n",
      "рівне 1? = 1\n",
      "Рівне 2? = 2\n",
      "Рівне 3? = 3\n",
      "Залишилось =  4\n"
     ]
    }
   ],
   "source": [
    "for A in range(5):\n",
    "    if str(A) =='1':\n",
    "        print(\"рівне 1? =\", A) \n",
    "    elif A == 2:\n",
    "        print(\"Рівне 2? =\", A)\n",
    "    elif A == 3:\n",
    "        print(\"Рівне 3? =\",A)\n",
    "    else:\n",
    "        print(\"Залишилось = \",A)"
   ]
  },
  {
   "cell_type": "code",
   "execution_count": 37,
   "metadata": {},
   "outputs": [
    {
     "name": "stdout",
     "output_type": "stream",
     "text": [
      "Починаємо ділення на 5\n",
      "Що буде якщо {2.0} ?\n",
      "Сталась помилка!!! ->>> name 'NonEixstingValue' is not defined\n",
      "Ось воно що!\n",
      "Починаємо ділення на 0\n",
      "Сталась помилка!!! ->>> division by zero\n",
      "Ось воно що!\n",
      "Починаємо ділення на 2\n",
      "Що буде якщо {5.0} ?\n",
      "Сталась помилка!!! ->>> name 'NonEixstingValue' is not defined\n",
      "Ось воно що!\n"
     ]
    }
   ],
   "source": [
    "for A in[5, 0, 2]:\n",
    "    print(\"Починаємо ділення на\",A)\n",
    "    try:\n",
    "        print(f\"Що буде якщо\",{10/A}, \"?\")\n",
    "        print(NonEixstingValue)\n",
    "        raise RuntimeError(\"Це наша помилка?\")\n",
    "    except (RuntimeError, ZeroDivisionError, NameError) as e:\n",
    "        print(\"Сталась помилка!!! ->>>\", e)\n",
    "    finally:\n",
    "        print(\"Ось воно що!\")    \n"
   ]
  },
  {
   "cell_type": "markdown",
   "metadata": {},
   "source": [
    "# Робота з контекст менеджерами"
   ]
  },
  {
   "cell_type": "code",
   "execution_count": 47,
   "metadata": {},
   "outputs": [],
   "source": [
    "\n",
    "with open(\"README.md\", \"r\") as f:\n",
    "    for line in f:\n",
    "        print(line)"
   ]
  },
  {
   "cell_type": "markdown",
   "metadata": {},
   "source": [
    "# Lambdas"
   ]
  },
  {
   "cell_type": "code",
   "execution_count": 51,
   "metadata": {},
   "outputs": [
    {
     "name": "stdout",
     "output_type": "stream",
     "text": [
      "Це просто функція: <function my_name at 0x0000011B69F349D0>\n",
      "Моє ім'я Олег та прізвище Сорока\n",
      "Це просто функція: <function <lambda> at 0x0000011B69F34040>\n",
      "Це її виклик: Цей код написав: Олег Сорока\n"
     ]
    }
   ],
   "source": [
    "def my_name(name, last):\n",
    "    return f\"Моє ім'я {name} та прізвище {last}\"\n",
    "\n",
    "print(\"Це просто функція:\", my_name)\n",
    "print(my_name(\"Олег\",\"Сорока\"))\n",
    "this_is_lambda = lambda first, last:f'Цей код написав: {first} {last}'\n",
    "print(\"Це просто функція:\",this_is_lambda)\n",
    "print(\"Це її виклик:\", this_is_lambda('Олег','Сорока'))\n"
   ]
  }
 ],
 "metadata": {
  "kernelspec": {
   "display_name": "Python 3.10.6 64-bit",
   "language": "python",
   "name": "python3"
  },
  "language_info": {
   "codemirror_mode": {
    "name": "ipython",
    "version": 3
   },
   "file_extension": ".py",
   "mimetype": "text/x-python",
   "name": "python",
   "nbconvert_exporter": "python",
   "pygments_lexer": "ipython3",
   "version": "3.10.6"
  },
  "orig_nbformat": 4,
  "vscode": {
   "interpreter": {
    "hash": "95cdb06e919eab5e2c554174537356ac9b55200d1eb6f880dc25de04343a18ea"
   }
  }
 },
 "nbformat": 4,
 "nbformat_minor": 2
}
