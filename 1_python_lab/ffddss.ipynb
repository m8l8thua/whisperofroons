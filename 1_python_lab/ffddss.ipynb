{
 "cells": [
  {
   "cell_type": "code",
   "execution_count": 3,
   "metadata": {},
   "outputs": [
    {
     "name": "stdout",
     "output_type": "stream",
     "text": [
      "osoroka2019@itcollege.lviv.ua start programming at 2022-08-29 20:52:23.260665\n"
     ]
    }
   ],
   "source": [
    "from datetime import datetime\n",
    "name = \"osoroka2019@itcollege.lviv.ua\"\n",
    "\n",
    "print(f\"{name} start programming at {datetime.now()}\")"
   ]
  }
 ],
 "metadata": {
  "kernelspec": {
   "display_name": "Python 3.10.8 64-bit (microsoft store)",
   "language": "python",
   "name": "python3"
  },
  "language_info": {
   "codemirror_mode": {
    "name": "ipython",
    "version": 3
   },
   "file_extension": ".py",
   "mimetype": "text/x-python",
   "name": "python",
   "nbconvert_exporter": "python",
   "pygments_lexer": "ipython3",
   "version": "3.10.8"
  },
  "orig_nbformat": 4,
  "vscode": {
   "interpreter": {
    "hash": "ab50e0f3b2cd6b3f9d87489071918167603376b578fa1bac4fb615e27848ccb2"
   }
  }
 },
 "nbformat": 4,
 "nbformat_minor": 2
}
